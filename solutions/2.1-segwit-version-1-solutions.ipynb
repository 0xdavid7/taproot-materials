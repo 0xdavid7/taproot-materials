{
 "cells": [
  {
   "cell_type": "markdown",
   "metadata": {},
   "source": [
    "#### 2.1.11 _Programming Exercise:_ Generate segwit v1 addresses for a 2-of-2 MuSig aggregate pubkey"
   ]
  },
  {
   "cell_type": "code",
   "execution_count": null,
   "metadata": {},
   "outputs": [],
   "source": [
    "# Generate a 2-of-2 aggregate MuSig key using the same pubkeys as before\n",
    "# Method: generate_musig_key(ECPubKey_list)\n",
    "c_map, agg_pubkey = generate_musig_key([pubkey1, pubkey2])\n",
    "\n",
    "# Multiply individual keys with challenges\n",
    "privkey1_c = c_map[pubkey1] * privkey1\n",
    "privkey2_c = c_map[pubkey2] * privkey2\n",
    "pubkey1_c = c_map[pubkey1] * pubkey1\n",
    "pubkey2_c = c_map[pubkey2] * pubkey2\n",
    "\n",
    "if agg_pubkey.get_y()%2 != 0:\n",
    "    privkey1_c.negate()\n",
    "    privkey2_c.negate()\n",
    "    pubkey1_c.negate()\n",
    "    pubkey2_c.negate()\n",
    "    agg_pubkey.negate()\n",
    "\n",
    "# Create a segwit v1 address for the MuSig aggregate pubkey\n",
    "# Method: address = program_to_witness(version_int, program_bytes)\n",
    "program_musig = agg_pubkey.get_bytes()\n",
    "address_musig = program_to_witness(0x01, program_musig)\n",
    "print(\"2-of-2 musig: \", address_musig)"
   ]
  },
  {
   "cell_type": "markdown",
   "metadata": {},
   "source": [
    "#### 2.1.14 _Programming Exercise:_ Create a valid BIP340 signature for the MuSig aggregate pubkey"
   ]
  },
  {
   "cell_type": "code",
   "execution_count": null,
   "metadata": {},
   "outputs": [],
   "source": [
    "# Create sighash for ALL (0x00)\n",
    "sighash_musig = TaprootSignatureHash(spending_tx, [tx.vout[0]], SIGHASH_ALL_TAPROOT, input_index=0)\n",
    "\n",
    "# Generate individual nonces for participants and an aggregate nonce point\n",
    "# Remember to negate the individual nonces if necessary\n",
    "# Method: generate_schnorr_nonce()\n",
    "# Method: aggregate_schnorr_nonces(nonce_list)\n",
    "nonce1 = generate_schnorr_nonce()\n",
    "nonce2 = generate_schnorr_nonce()\n",
    "R_agg, negated = aggregate_schnorr_nonces([nonce1.get_pubkey(), nonce2.get_pubkey()])\n",
    "\n",
    "if negated:\n",
    "    nonce1.negate()\n",
    "    nonce2.negate()\n",
    "\n",
    "# Create an aggregate signature\n",
    "# Method: sign_musig(privkey, nonce, R_agg, agg_pubkey, sighash_musig)\n",
    "# Method: aggregate_musig_signatures(partial_signature_list, R_agg)\n",
    "s1 = sign_musig(privkey1_c, nonce1, R_agg, agg_pubkey, sighash_musig)\n",
    "s2 = sign_musig(privkey2_c, nonce2, R_agg, agg_pubkey, sighash_musig)\n",
    "sig_agg = aggregate_musig_signatures([s1, s2], R_agg)\n",
    "print(\"Aggregate signature is {}\\n\".format(sig_agg.hex()))\n",
    "\n",
    "# Add witness to transaction\n",
    "spending_tx.wit.vtxinwit.append(CTxInWitness([sig_agg]))\n",
    "\n",
    "# Get transaction weight\n",
    "print(\"Transaction weight: {}\\n\".format(node.decoderawtransaction(spending_tx.serialize().hex())['weight']))\n",
    "\n",
    "# Test mempool acceptance\n",
    "assert node.test_transaction(spending_tx)\n",
    "print(\"Success!\")"
   ]
  }
 ],
 "metadata": {
  "kernelspec": {
   "display_name": "Python 3",
   "language": "python",
   "name": "python3"
  },
  "language_info": {
   "codemirror_mode": {
    "name": "ipython",
    "version": 3
   },
   "file_extension": ".py",
   "mimetype": "text/x-python",
   "name": "python",
   "nbconvert_exporter": "python",
   "pygments_lexer": "ipython3",
   "version": "3.6.5"
  }
 },
 "nbformat": 4,
 "nbformat_minor": 2
}
