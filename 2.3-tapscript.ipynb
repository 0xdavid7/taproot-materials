{
 "cells": [
  {
   "cell_type": "code",
   "execution_count": null,
   "metadata": {},
   "outputs": [],
   "source": [
    "import util\n",
    "from test_framework.address import program_to_witness\n",
    "from test_framework.key import generate_key_pair, generate_bip340_key_pair\n",
    "from test_framework.messages import CTxInWitness, ser_string, sha256\n",
    "from test_framework.musig import generate_musig_key\n",
    "from test_framework.script import hash160, SIGHASH_ALL_TAPROOT, tagged_hash, TapLeaf, TaprootSignatureHash, TapTree"
   ]
  },
  {
   "cell_type": "markdown",
   "metadata": {},
   "source": [
    "# 2.3 Tapscript\n"
   ]
  },
  {
   "cell_type": "markdown",
   "metadata": {},
   "source": [
    "In this chapter, we introduce tapscript, an updated Bitcoin scripting language which is introduced in [BIP342](https://github.com/bitcoin/bips/blob/master/bip-0342.mediawiki). Tapscript retains most of the opcodes and evaluation rules applicable to v0 witness scripts, but includes several notable updates described in part 1 of this chapter. The most notable changes in tapscript include signature opcodes which verify BIP340 signatures, and the newly added `OP_CHECKSIGADD` signature opcode, which replaces the legacy `OP_CHECKMULTISIG` operation.\n",
    "\n",
    "* __Part 1: Script updates__\n",
    "    * Signature opcode updates.\n",
    "        * Schnorr verification.\n",
    "        * Checksigadd.\n",
    "    * Future Versioning\n",
    "        * Tapscript\n",
    "        * Opcodes\n",
    "\n",
    "We also propose a new set of tapscript descriptors in part 2. [Descriptors](https://github.com/bitcoin/bitcoin/blob/cf57e33cc6d95a96f94b259d7680ff9b4f7e22cf/doc/descriptors.md) are a human-readable, high-level template language to describe an individual output or a range of outputs. The proposed Tapscript descriptors include single or multisig (checksigadd) pay-to-pubkey outputs, in combination with hashlocks and time delays.\n",
    "\n",
    "* __Part 2: Tapscript descriptors__ (Proposed)\n",
    "    * `Pay-to-pubkey` descriptors\n",
    "    * `Checksigadd` descriptors\n",
    "\n",
    "In part 3, we learn how a tapscript can be committed to a taptweak. [BIP341](https://github.com/bitcoin/bips/blob/master/bip-0342.mediawiki) proposes such script commitments as an alternative output spending path, which is only revealed when spent. Taproot outputs with committed tapscripts are indistinguishable from other segwit v1 outputs. \n",
    "\n",
    "If the internal key of the taproot is a MuSig key, then a committed tapscript is considered an alternative, enforcing spending path, which can impose a separate set of spending conditions independent of the MuSig key. If all participants agree that the locking conditions of the tapscript can be spent, they can collaboratively spend along the MuSig key path, thereby increasing privacy and saving transaction costs.\n",
    "\n",
    "* __Part 3: Committing scripts into taptweaks__\n",
    "    * TapTweak: Tagged pubkey tweaks\n",
    "    * TapLeaf: Tagged tapscript hashes\n",
    "    * Spending a single tapscript commitment"
   ]
  },
  {
   "cell_type": "markdown",
   "metadata": {},
   "source": [
    "## Part 1: Script Updates\n",
    "\n",
    "### Schnorr verification with signature opcodes\n",
    "\n",
    "The signature opcodes consume the same stack arguments as in Segwit v0, but now verify schnorr signatures as defined in [BIP340](https://github.com/bitcoin/bips/blob/master/bip-0340.mediawiki).\n",
    "\n",
    "* OP_CHECKSIG\n",
    "    * Stack arguments consumed: `[public key] [BIP340 signature]`\n",
    "    * Pushes 0x01 on success or 0x00 on failure onto the stack.\n",
    "    * Requires an empty signature 0x00 to fail.\n",
    "    \n",
    "    \n",
    "* OP_CHECKSIGVERIFY\n",
    "    * Stack arguments consumed: `[public key] [BIP340 signature]`\n",
    "    * Continues with next opcode or fails script evaluation."
   ]
  },
  {
   "cell_type": "markdown",
   "metadata": {},
   "source": [
    "#### 2.3.1 Example: Pay-to-pubkey tapscript.\n",
    "\n",
    "* The pay-to-pubkey tapscript consist of the following script operations:\n",
    "    * `[pk] [checksig]`\n",
    "    \n",
    "* `TapLeaf.construct_pk(ECPubKey)` contructs a pk tapscript.\n",
    "* `TapLeaf.script` returns the script opcodes.\n",
    "* `TapLeaf.sat` returns witness elements required to satisfy the tapscript."
   ]
  },
  {
   "cell_type": "code",
   "execution_count": null,
   "metadata": {},
   "outputs": [],
   "source": [
    "# Generate key pair\n",
    "privkey, pubkey = generate_bip340_key_pair()\n",
    "\n",
    "# Generate tapscript\n",
    "pk_tapscript = TapLeaf().construct_pk(pubkey)\n",
    "\n",
    "print(\"Tapscript operations:\")\n",
    "for op in pk_tapscript.script:\n",
    "    print(op.hex()) if isinstance(op, bytes) else print(op)\n",
    "\n",
    "print(\"\\nSatisfying witness element:\")\n",
    "for element, value in pk_tapscript.sat:\n",
    "    print(\"Witness element type is: {}\".format(element))\n",
    "    print(\"Signature corresponds to pubkey: {}\".format(value.hex()))"
   ]
  },
  {
   "cell_type": "markdown",
   "metadata": {},
   "source": [
    "### Disabled CHECKMULTISIG opcodes\n",
    "\n",
    "Legacy k-of-n multisignature opcodes would previously check each of the k signatures against up to n public keys. This is inefficient and disables batch verification of schnorr signatures, since pubkey and signature pairs cannot be known prior to script execution.\n",
    "\n",
    "* OP_CHECKMULTISIG\n",
    "* OP_CHECKMULTISIGVERIFY"
   ]
  },
  {
   "cell_type": "markdown",
   "metadata": {},
   "source": [
    "### Multisignatures with CHECKSIGADD\n",
    "\n",
    "Tapscript replaces the previous checkmultisig signature operation with OP_CHECKSIGADD. \n",
    "\n",
    "This multisignature signature opcode requires the witness to provide a valid or invalid signature for each public key, thereby avoiding the need to waste signature verification operations for each public key in k-of-n multisignature scripts.\n",
    "\n",
    "* OP_CHECKSIGADD\n",
    "    * Equivalent to: `[OP_ROT][OP_SWAP][OP_CHECKSIG][OP_ADD]`\n",
    "    * Enables multisig scripts as shown below."
   ]
  },
  {
   "cell_type": "markdown",
   "metadata": {},
   "source": [
    "![test](images/tapscript0.jpg)\n"
   ]
  },
  {
   "cell_type": "markdown",
   "metadata": {},
   "source": [
    "### k-of-n CHECKSIGADD tapscripts\n",
    "\n",
    "Unlike legacy multisig, k-of-n checksigadd multisignature tapscripts will consume a stack element for each public key in the output script. This means that unused public keys must be evaluated against a zero witness element.\n",
    "\n",
    "For example:\n",
    "* Tapscript: `[pk0] [CHECKSIG] [PK1] [CHECKSIGADD] [PK2] [CHECKSIGADD] [2] [NUMEQUAL]`\n",
    "* Possible spending witness(es): \n",
    "    * `[sig2]` `[sig1]` `[]`\n",
    "    * `[sig2]` `[]` `[sig0]`\n",
    "    * `[]` `[sig1]` `[sig0]`\n",
    "\n",
    "The disadvantages of k-of-n Checksigadd multisignature scripts include\n",
    "* Cost: unused public keys are paid by the spender.\n",
    "* Privacy: unused public keys are revealed when tapscript is spent."
   ]
  },
  {
   "cell_type": "markdown",
   "metadata": {},
   "source": [
    "#### 2.3.2 Example: Generating a 2-of-3 checksigadd output\n",
    "\n",
    "In this example, we construct a 2-of-3 multisig output with `OP_CHECKSIGADD`."
   ]
  },
  {
   "cell_type": "code",
   "execution_count": null,
   "metadata": {},
   "outputs": [],
   "source": [
    "# Generate key pairs\n",
    "privkey1, pubkey1 = generate_bip340_key_pair()\n",
    "privkey2, pubkey2 = generate_bip340_key_pair()\n",
    "privkey3, pubkey3 = generate_bip340_key_pair()\n",
    "\n",
    "# Generate tapscript\n",
    "csa_tapscript = TapLeaf().construct_csa(2, [pubkey1, pubkey2, pubkey3])\n",
    "\n",
    "print(\"CSA tapscript operations:\")\n",
    "for op in csa_tapscript.script:\n",
    "    print(op.hex()) if isinstance(op, bytes) else print(op)\n",
    "\n",
    "# Satisfying witness element.\n",
    "print(\"\\nSatisfying witness elements:\")\n",
    "for element, value in csa_tapscript.sat:\n",
    "    print(\"Witness element type is: {}\".format(element))\n",
    "    print(\"Signature corresponds to pubkey: {}\".format(value.hex()))"
   ]
  },
  {
   "cell_type": "markdown",
   "metadata": {},
   "source": [
    "### k-of-k CHECKSIGADD scripts\n",
    "\n",
    "Alternatively, a k-of-n multisig locking condition can be expressed with multiple k-of-k checksigadd tapscripts. This minimizes leakage of unused public keys and can be more cost-efficient for the spender.\n",
    "\n",
    "Use the following convenience method to generate k-of-k checksigadd tapscripts from n public keys.\n",
    "* `TapLeaf.generate_threshold_csa(k, [key_0, key_1, ..., key_n])`"
   ]
  },
  {
   "cell_type": "markdown",
   "metadata": {},
   "source": [
    "![test](images/tapscript1.jpg)\n"
   ]
  },
  {
   "cell_type": "markdown",
   "metadata": {},
   "source": [
    "#### 2.3.3 Example: 2-of-3 multisig expressed as 2-of-2 checksigadd tapscripts."
   ]
  },
  {
   "cell_type": "code",
   "execution_count": null,
   "metadata": {},
   "outputs": [],
   "source": [
    "# Generate key pairs\n",
    "privkey1, pubkey1 = generate_bip340_key_pair()\n",
    "privkey2, pubkey2 = generate_bip340_key_pair()\n",
    "privkey3, pubkey3 = generate_bip340_key_pair()\n",
    "\n",
    "# Generate tapscripts\n",
    "pubkeys = [pubkey1, pubkey2, pubkey3]\n",
    "tapscripts = TapLeaf.generate_threshold_csa(2, pubkeys)\n",
    "\n",
    "print(\"2-of-3 multisig expressed as 2-of-2 checkigadd tapscripts:\")\n",
    "for ts in tapscripts:\n",
    "    print(ts.desc)"
   ]
  },
  {
   "cell_type": "markdown",
   "metadata": {},
   "source": [
    "### Tapscript versioning\n",
    "\n",
    "Tapscript allows for future upgrades of individual tapscripts and specific opcodes.\n",
    "\n",
    "* Leaf version (commited to TapTree leaf node)\n",
    "    * Initial version: `0xC0`\n",
    "    * The leaf version is committed to the tapleaf (See Part 3).\n",
    "* Success opcodes (allow for future functionality).\n",
    "    * 80, 98, 126-129, 131-134, 137-138, 141-142, 149-153, 187-254\n",
    "    * Any of these opcodes end script evaluation successfully."
   ]
  },
  {
   "cell_type": "markdown",
   "metadata": {},
   "source": [
    "## Part 2: Tapscript descriptors\n",
    "\n",
    "A tapscript descriptor is a human-readable language expression which maps to a unique output. We propose each tapscript descriptor to be encapsulated by a tapscript tag `ts`, which can be updated in future tapleaf versions. As of [Bitcoin Core #22051](https://github.com/bitcoin/bitcoin/pull/22051), this section is partly out of date as a different taproot descriptor syntax was adopted.  The information provided here is still useful, and any reader wanting an extended bonus exercise is encouraged to submit a PR updating the implementation in this repository to match the syntax adopted by Bitcoin Core.\n",
    "* `ts(pk(key))`, `ts(csa(key))`, ...\n",
    "\n",
    "### Combining public keys with hashlocks and delays\n",
    "\n",
    "We also propose tapscript descriptors which describe outputs combining public keys with both hashlocks and delays. The following is a brief overview of the hashlock and delay implementations used in this chapter.\n",
    "\n",
    "**A hashlock consumes a 32B preimage and checks the hash digest for correctness:**\n",
    "\n",
    "1. A 32B size guard checks that the spending preimage size is exactly 32B.\n",
    "2. A `hash160` operation produces a 20B digest of the pre-image.\n",
    "3. An equality check is performed for the hashed preimage and the hashlock digest.\n",
    "\n",
    "Where: `hash160(data) = ripemd160(sha256(data))`\n",
    "\n",
    "**Note:** The hashlock contains a size guard (1) to ensure that the preimage in the spending witness cannot be impractically large. Consider the example of an atomic swap between two chains. If the data push limits for the two chains differ, it will be possible that one transaction is spendable and the other is not, even though they feature identical hashlocks. The preimage may simply exceed the data push limit for one of the chains.\n",
    "\n",
    "**A delay is implemented with an nSequence check:**\n",
    "\n",
    "1. The `nSequence` field in a spending transaction input encodes a minimum delay between the confirmation of the referenced output and its spending.\n",
    "2. The spending transaction must be encoded with `version >= 2` to activate `nSequence` delay encoding.\n",
    "3. A `checksequenceverify` opcode in a delay-enforcing output script will check the `nSequence` value of the spending transaction input."
   ]
  },
  {
   "cell_type": "markdown",
   "metadata": {},
   "source": [
    "### Pay-to-pubkey tapscript descriptors\n",
    "\n",
    "Next, let us consider specific types of tapscript descriptors. The simplist form of tapscript descriptors are pay-to-pubkey tapscripts. They are spendable by a valid signature witness element, but can be combined with other locking conditions, such as hashlocks and time delays.\n",
    "\n",
    "* `ts(pk(key))`\n",
    "    * Witness: `[signature]`\n",
    "    \n",
    "    \n",
    "* `ts(pk_hashlock(key, 20B-hash-digest))`\n",
    "    * Witness: `[signature]`,`[32B-preimage]`\n",
    "    * Hashlock: `hash160(32B-preimage)`\n",
    "\n",
    "\n",
    "* `ts(pk_delay(key, delay))`\n",
    "    * Witness: `[signature]`\n",
    "    * Spendable after delay (with `nSequence > delay`)\n",
    "    \n",
    "    \n",
    "* `ts(pk_hashlock_delay(key, 20B-hash-digest, delay))`\n",
    "    * Witness: `[signature]`,`[32B-preimage]`\n",
    "    * Hashlock: `hash160(32B-preimage)`\n",
    "    * Spendable after delay  (with `nSequence > delay`)"
   ]
  },
  {
   "cell_type": "markdown",
   "metadata": {},
   "source": [
    "We also provide pay-to-pubkey tapscript constructors for for the `TapLeaf` class. \n",
    "\n",
    "* `TapLeaf.construct_pk(ECPubKey)`\n",
    "* `TapLeaf.construct_pk_hashlock(ECPubKey, 20B-hash-digest)`\n",
    "* `TapLeaf.construct_pk_delay(ECPubKey, delay)`\n",
    "* `TapLeaf.construct_pk_hashlock_delay(ECPubKey, 20B-hash-digest, delay)`\n",
    "\n",
    "The descriptor string can be recalled with:\n",
    "* `TapLeaf.desc`\n",
    "\n",
    "**Note:** pubkeys in pay-to-pubkey tapscripts can be generated with multi-party schemes such as MuSig."
   ]
  },
  {
   "cell_type": "markdown",
   "metadata": {},
   "source": [
    "#### 2.3.4 Example: Generating a `pk_delay` tapscript\n",
    "\n",
    "We construct a `pk_delay` tapscript with the following locking conditions:\n",
    "\n",
    "* 2-of-2 MuSig public key\n",
    "* Delay of 20 blocks"
   ]
  },
  {
   "cell_type": "code",
   "execution_count": null,
   "metadata": {},
   "outputs": [],
   "source": [
    "# Generate MuSig key\n",
    "privkey1, pubkey1 = generate_key_pair()\n",
    "privkey2, pubkey2 = generate_key_pair()\n",
    "c_map, pk_musig = generate_musig_key([pubkey1, pubkey2])\n",
    "\n",
    "if pk_musig.get_y()%2 != 0:\n",
    "    pk_musig.negate()\n",
    "    privkey1.negate()\n",
    "    privkey2.negate()\n",
    "\n",
    "# Generate pk_delay tapscript\n",
    "pk_delay_tapscript = TapLeaf().construct_pk_delay(pk_musig, 20)\n",
    "print(\"Tapscript descriptor:\", pk_delay_tapscript.desc, \"\\n\")\n",
    "\n",
    "print(\"Tapscript operations:\")\n",
    "for op in pk_delay_tapscript.script:\n",
    "    print(op.hex()) if isinstance(op, bytes) else print(op)\n",
    "\n",
    "print(\"\\nSatisfying witness elements:\")\n",
    "for element, value in pk_delay_tapscript.sat:\n",
    "    print(\"{}, {}\".format(element, value.hex()))"
   ]
  },
  {
   "cell_type": "markdown",
   "metadata": {},
   "source": [
    "### CHECKSIGADD tapscript descriptors\n",
    "\n",
    "A CHECKSIGADD tapscript descriptor is proposed to have the following forms, and can also be combined with hashlocks and delays.\n",
    "\n",
    "* `ts(csa(k, [key0, key1, ...]))`\n",
    "    * Witness: `[signature], [signature], ...`\n",
    "    * Note: for n < m, empty signature elements (zero) must be provided.\n",
    "    \n",
    "\n",
    "\n",
    "* `ts(csa_hashlock(k, [key0, key1, ...], hash, time))`\n",
    "    * Witness: `[signature], [signature], ..., [32B pre-image]`\n",
    "    * Hashlock: `hash160(32B-preimage)`\n",
    "\n",
    "\n",
    "\n",
    "* `ts(csa_delay(k, [key0, key1, ...], hash, time))`\n",
    "    * Witness: `[signature], [signature], ...`\n",
    "    * Spendable after delay (with `nSequence > delay`)\n",
    "\n",
    "\n",
    "* `ts(csa_hashlock_delay(k, [key0, key1, ...], hash, time))`\n",
    "    * Witness: `[signature], [signature], ..., [32B pre-image]`\n",
    "    * Hashlock: `hash160(32B-preimage)`\n",
    "    * Spendable after delay (with `nSequence > delay`)"
   ]
  },
  {
   "cell_type": "markdown",
   "metadata": {},
   "source": [
    "We also provide checksigadd tapscript constructors for for the `TapLeaf` class. \n",
    "\n",
    "* `TapLeaf.construct_csa(k, [ECPubKey, ECPubKey, ...])`\n",
    "* `TapLeaf.construct_csa_hashlock(k, [ECPubKey, ECPubKey, ...], 20B-hash-digest)`\n",
    "* `TapLeaf.construct_csa_delay(k, [ECPubKey, ECPubKey, ...], delay)`\n",
    "* `TapLeaf.construct_csa_hashlock_delay(k, [ECPubKey, ECPubKey, ...], 20B-hash-digest, delay)`\n",
    "\n",
    "**Note:** Any single public key in CSA tapscripts can be generated with multi-party schemes such as MuSig."
   ]
  },
  {
   "cell_type": "markdown",
   "metadata": {},
   "source": [
    "#### 2.3.5 _Programming Exercise:_ Generate a 2-of-2 `csa_hashlock_delay` tapscript\n",
    "\n",
    "Construct a `csa_hashlock_delay` tapscript with the following locking conditions:\n",
    "\n",
    "* 2-of-2 public keys\n",
    "* `OP_HASH160` hashlock with the preimage `sha256(b'secret')`\n",
    "    * `OP_HASH160` is equivalent to `ripemd160(sha256(preimage))`\n",
    "* Delay of 20 blocks"
   ]
  },
  {
   "cell_type": "code",
   "execution_count": null,
   "metadata": {},
   "outputs": [],
   "source": [
    "# Generate key pairs\n",
    "privkey1, pubkey1 = generate_bip340_key_pair()\n",
    "privkey2, pubkey2 = generate_bip340_key_pair()\n",
    "\n",
    "print(\"pubkey1: {}\".format(pubkey1.get_bytes().hex()))\n",
    "print(\"pubkey2: {}\\n\".format(pubkey2.get_bytes().hex()))\n",
    "\n",
    "# Method: 32B preimage - sha256(bytes)\n",
    "# Method: 20B digest - hash160(bytes)\n",
    "secret = b'secret'\n",
    "preimage =  # TODO: implement\n",
    "digest =  # TODO: implement\n",
    "delay =  # TODO: implement\n",
    "\n",
    "# Construct tapscript\n",
    "csa_hashlock_delay_tapscript =  # TODO: implement\n",
    "print(\"Descriptor:\", csa_hashlock_delay_tapscript.desc, \"\\n\")\n",
    "\n",
    "print(\"Tapscript operations:\")\n",
    "for op in csa_hashlock_delay_tapscript.script:\n",
    "    print(op.hex()) if isinstance(op, bytes) else print(op)\n",
    "\n",
    "print(\"\\nSatisfying witness elements:\")\n",
    "for element, value in csa_hashlock_delay_tapscript.sat:\n",
    "    print(\"{}, {}\".format(element, value.hex()))"
   ]
  },
  {
   "cell_type": "markdown",
   "metadata": {},
   "source": [
    "## Part 3: Committing scripts into taptweaks\n",
    "\n",
    "### TapTweaks\n",
    "\n",
    "In chapter 2.2, we learned that it is possible to make valid commitments to a public key, which are called taptweaks. A taptweak commitment is computed with a tagged hash using the **TapTweak** tag.\n",
    "\n",
    "* **`TapTweak`** = `tagged_hash(\"TapTweak\", commitment_hash)`"
   ]
  },
  {
   "cell_type": "markdown",
   "metadata": {},
   "source": [
    "### Single tapleaf script commitments\n",
    "\n",
    "In order to commit a _tapscript_ to a taptweak, we simply compute the `tagged_hash(\"TapLeaf\")` for the tapscript, along with its tapleaf version and then commit the tapleaf to the taptweak.\n",
    "\n",
    "* 1. **`TapLeaf`** = `sha256(sha256(\"TapLeaf\") + sha256(\"TapLeaf\") + version|size|script)`\n",
    "* 2. **`TapTweak`** = `sha256(sha256(\"TapTweak\") + sha256(\"TapTweak\") + internal_pubkey + TapLeaf)`\n",
    "\n",
    "Initial tapscript version:\n",
    "* `0xc0`\n",
    "\n",
    "Script compact size:\n",
    "* `ser_string(Cscript)` returns the `Cscript` with leading compact size bytes.\n",
    "* `TapLeaf.script` returns the cscript of the tapscript/tapleaf."
   ]
  },
  {
   "cell_type": "markdown",
   "metadata": {},
   "source": [
    "#### _2.3.6 Programming Exercise:_ Compute the taptweak from a tapscript\n",
    "\n",
    "* Use the `tagged_hash()` function to compute a tagged hash.\n",
    "* Generate an internal public key.\n",
    "* Compute the taptweak from a single `csa_hashlock_delay_tapscript` commitment."
   ]
  },
  {
   "cell_type": "code",
   "execution_count": null,
   "metadata": {},
   "outputs": [],
   "source": [
    "privkey_internal, pubkey_internal =  # TODO: implement\n",
    "\n",
    "# Method: ser_string(Cscript) prepends compact size.\n",
    "TAPSCRIPT_VER = bytes([0xc0])\n",
    "tapleaf =  # TODO: implement\n",
    "taptweak =  # TODO: implement\n",
    "print(\"Your constructed taptweak is: {}.\".format(taptweak.hex()))"
   ]
  },
  {
   "cell_type": "markdown",
   "metadata": {},
   "source": [
    "#### 2.3.7 Example: Compare tagged hash with taptweak constructor\n",
    "\n",
    "* A `TapTree()` object can be instantiated with the internal pubkey `key` and taptree root `root`.\n",
    "* The `TapTree.construct()` method constructs the triple: `segwit_v1_cscript`, `taptweak`, `cblock_map`.\n",
    "* Run the code below to generate the taptweak and compare with your taptweak computation."
   ]
  },
  {
   "cell_type": "code",
   "execution_count": null,
   "metadata": {},
   "outputs": [],
   "source": [
    "taptree = TapTree(key=pubkey_internal, root=csa_hashlock_delay_tapscript)\n",
    "segwit_v1_script, tap_tweak_constructed, control_map = taptree.construct()\n",
    "\n",
    "assert taptweak == tap_tweak_constructed\n",
    "print(\"Success! Your constructed taptweak is correct.\")"
   ]
  },
  {
   "cell_type": "markdown",
   "metadata": {},
   "source": [
    "### Spending a single tapscript script commitment\n",
    "\n",
    "The witness which can spend a single committed tapscript requires witness data which provides the satisfying elements of the tapscript, and proof that the tapscript is committed to the witness program.\n",
    "\n",
    "* `[Stack element(s) satisfying tapscript]`\n",
    "* `[Tapscript]`\n",
    "* `[Controlblock c]`\n",
    "\n",
    "The controlblock c is a single stack element consisting of:\n",
    "* `[Tapscript version]`\n",
    "    * `0xfe & c[0]`\n",
    "* `[Parity bit (oddness of Q's y-coordinate)]`\n",
    "    * `0x01 & c[0]`\n",
    "* `[Internal Public Key]`\n",
    "    * `c[1:33]`\n"
   ]
  },
  {
   "cell_type": "markdown",
   "metadata": {},
   "source": [
    "#### Example 2.3.8:  Generate a single tapscript segwit v1 address\n",
    "\n",
    "In this example, we construct segwit v1 output for spending along the single script path. We will reuse the previously generated segwit v1 witness program which has the `csa_hashlock_delay` tapscript committed to it, and encode it to a bech32m address."
   ]
  },
  {
   "cell_type": "code",
   "execution_count": null,
   "metadata": {},
   "outputs": [],
   "source": [
    "# Tweak the internal key to obtain the Segwit program \n",
    "# ([32B x-coordinate])\n",
    "taproot_pubkey = pubkey_internal.tweak_add(taptweak) \n",
    "taproot_pubkey_b = taproot_pubkey.get_bytes()\n",
    "program = taproot_pubkey_b\n",
    "print(\"Witness program is {}\\n\".format(program.hex()))\n",
    "\n",
    "# Create (regtest) bech32m address\n",
    "version = 0x01\n",
    "address = program_to_witness(1, program)\n",
    "print(\"bech32m address is {}\".format(address))"
   ]
  },
  {
   "cell_type": "markdown",
   "metadata": {},
   "source": [
    "#### Example 2.3.9: Start Bitcoin Core node and send coins to the taproot address\n",
    "\n",
    "Only run setup once, or after a clean shutdown."
   ]
  },
  {
   "cell_type": "code",
   "execution_count": null,
   "metadata": {},
   "outputs": [],
   "source": [
    "# Start node\n",
    "test = util.TestWrapper()\n",
    "test.setup()\n",
    "node = test.nodes[0]\n",
    "\n",
    "# Generate coins and create an output\n",
    "tx = node.generate_and_send_coins(address)\n",
    "print(\"Transaction {}, output 0\\nsent to {}\\n\".format(tx.hash, address))"
   ]
  },
  {
   "cell_type": "markdown",
   "metadata": {},
   "source": [
    "#### Example 2.3.10: Construct `CTransaction` and populate fields\n",
    "\n",
    "We use the `create_spending_transaction(node, txid, version, nSequence)` convenience function.\n",
    "\n",
    "* Transaction version must set to 2 if the tapscript has set a spend delay.\n",
    "* The input sequence must be encoded with the required spend delay."
   ]
  },
  {
   "cell_type": "code",
   "execution_count": null,
   "metadata": {},
   "outputs": [],
   "source": [
    "# Create a spending transaction\n",
    "spending_tx = test.create_spending_transaction(tx.hash, version=2, nSequence=delay)\n",
    "\n",
    "print(\"Spending transaction:\\n{}\".format(spending_tx))"
   ]
  },
  {
   "cell_type": "markdown",
   "metadata": {},
   "source": [
    "#### _Programming Exercise 2.3.11:_ Sign the transaction\n",
    "\n",
    "Note that we must pass the following arguments to `TaprootSignatureHash` for script path spending:\n",
    "* `scriptpath`: `True`\n",
    "* `tapscript`: `Cscript` of tapscript"
   ]
  },
  {
   "cell_type": "code",
   "execution_count": null,
   "metadata": {},
   "outputs": [],
   "source": [
    "# Generate the Taproot Signature Hash for signing\n",
    "sighash = TaprootSignatureHash(spending_tx,\n",
    "                               [tx.vout[0]],\n",
    "                               SIGHASH_ALL_TAPROOT,\n",
    "                               input_index=0,\n",
    "                               scriptpath=  # TODO: implement\n",
    "                               script=  # TODO: implement\n",
    "\n",
    "# Sign with both privkeys\n",
    "signature1 =  # TODO: implement\n",
    "signature2 =  # TODO: implement\n",
    "\n",
    "print(\"Signature1: {}\".format(signature1.hex()))\n",
    "print(\"Signature2: {}\".format(signature2.hex()))"
   ]
  },
  {
   "cell_type": "markdown",
   "metadata": {},
   "source": [
    "#### _Programming Exercise 2.3.12:_ Add the witness and test acceptance of the transaction\n",
    "\n",
    "Remember to revisit the satisfying witness elements for `csa_hashlock_delay_tapscript` constructed in exercise 2.3.5:\n",
    "* Preimage\n",
    "* Signature for pubkey2\n",
    "* Signature for pubkey1\n",
    "\n",
    "Ensure that the time-lock performs as expected."
   ]
  },
  {
   "cell_type": "code",
   "execution_count": null,
   "metadata": {},
   "outputs": [],
   "source": [
    "# Add witness to transaction\n",
    "# Tip: Witness stack for script path - [satisfying elements for tapscript] [TapLeaf.script] [controlblock]\n",
    "# Tip: Controlblock for a tapscript in control_map[TapLeaf.script]\n",
    "witness_elements =  # TODO: implement\n",
    "spending_tx.wit.vtxinwit.append(CTxInWitness(witness_elements))\n",
    "\n",
    "print(\"Spending transaction:\\n{}\\n\".format(spending_tx))\n",
    "\n",
    "# Test mempool acceptance with and without delay\n",
    "assert not node.test_transaction(spending_tx)\n",
    "node.generate(delay)\n",
    "assert node.test_transaction(spending_tx)\n",
    "\n",
    "print(\"Success!\")"
   ]
  },
  {
   "cell_type": "markdown",
   "metadata": {},
   "source": [
    "#### Example 2.3.13: Shutdown TestWrapper"
   ]
  },
  {
   "cell_type": "code",
   "execution_count": null,
   "metadata": {},
   "outputs": [],
   "source": [
    "# Shutdown\n",
    "test.shutdown()"
   ]
  },
  {
   "cell_type": "markdown",
   "metadata": {},
   "source": [
    "**Congratulations!** In this chapter, you have:\n",
    "\n",
    "- Learned how the tapscript semantics differ from legacy Bitcoin script semantics:\n",
    "    - `OP_CHECKSIG` opcodes verify BIP340 signatures instead of ecdsa signatures.\n",
    "    - `OP_CHECKMULTISIG` and `OP_CHECKMULTISIGVERIFY` are replaced by `OP_CHECKSIGADD`.\n",
    "- Converted a k-of-n threshold signing scheme into a tree of multiple k-of-k threshold signing schemes.\n",
    "- Learned how tapscript is versioned.\n",
    "- Used output descriptors to specify and construct a tapscript.\n",
    "- Learned how a tapscript can be committed as a tweak into a taproot internal public key.\n",
    "- Sent coins to a segwit v1 output with a tweaked public key committing to a tapscript, and later spent that output by using the script path."
   ]
  }
 ],
 "metadata": {
  "kernelspec": {
   "display_name": "Python 3",
   "language": "python",
   "name": "python3"
  },
  "language_info": {
   "codemirror_mode": {
    "name": "ipython",
    "version": 3
   },
   "file_extension": ".py",
   "mimetype": "text/x-python",
   "name": "python",
   "nbconvert_exporter": "python",
   "pygments_lexer": "ipython3",
   "version": "3.6.5"
  }
 },
 "nbformat": 4,
 "nbformat_minor": 2
}
