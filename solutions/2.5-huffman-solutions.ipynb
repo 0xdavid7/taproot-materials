{
 "cells": [
  {
   "cell_type": "markdown",
   "metadata": {},
   "source": [
    "#### _Programming Exercise 2.5.3:_ Assign the leaf frequencies for this tree structure"
   ]
  },
  {
   "cell_type": "code",
   "execution_count": null,
   "metadata": {},
   "outputs": [],
   "source": [
    "internal_pubkey = ECPubKey()\n",
    "internal_pubkey.set(bytes.fromhex('af455f4989d122e9185f8c351dbaecd13adca3eef8a9d38ef8ffed6867e342e3'))\n",
    "\n",
    "# Derive pay-to-pubkey TapLeafs\n",
    "privkeyA, pubkeyA = generate_bip340_key_pair()\n",
    "privkeyB, pubkeyB = generate_bip340_key_pair()\n",
    "privkeyC, pubkeyC = generate_bip340_key_pair()\n",
    "privkeyD, pubkeyD = generate_bip340_key_pair()\n",
    "privkeyE, pubkeyE = generate_bip340_key_pair()\n",
    "privkeyF, pubkeyF = generate_bip340_key_pair()\n",
    "\n",
    "tapleafA = TapLeaf().construct_pk(pubkeyA)\n",
    "tapleafB = TapLeaf().construct_pk(pubkeyB)\n",
    "tapleafC = TapLeaf().construct_pk(pubkeyC)\n",
    "tapleafD = TapLeaf().construct_pk(pubkeyD)\n",
    "tapleafE = TapLeaf().construct_pk(pubkeyE)\n",
    "tapleafF = TapLeaf().construct_pk(pubkeyF)\n",
    "\n",
    "# Assign frequencies to the TapLeaves to generate the desired tree\n",
    "# Depth 4: Assign frequency of 1 to leafs A through D\n",
    "weightA = 1\n",
    "weightB = 1\n",
    "weightC = 1\n",
    "weightD = 1\n",
    "# Depth 3: Compute frequencies of tapbranches AB and CD\n",
    "weightAB = 2\n",
    "weightCD = 2\n",
    "# Depth 2: Compute frequencies of tapbranch ABCD and leaf E\n",
    "weightABCD = weightAB + weightCD\n",
    "weightE = weightABCD\n",
    "# Depth 1: Compute frequencies of tapbranch ABCDE and leaf F\n",
    "weightABCDE = weightABCD + weightE\n",
    "weightF = weightABCDE\n",
    "\n",
    "# Construct TapTree with Huffman constructor\n",
    "taptree = TapTree()\n",
    "taptree.key = internal_pubkey\n",
    "taptree.huffman_constructor([(weightA, tapleafA), (weightB, tapleafB), (weightC, tapleafC), (weightD, tapleafD), (weightE, tapleafE), (weightF, tapleafF)])\n",
    "print(\"Taptree descriptor: {}\\n\".format(taptree.desc))"
   ]
  }
 ],
 "metadata": {
  "kernelspec": {
   "display_name": "Python 3",
   "language": "python",
   "name": "python3"
  },
  "language_info": {
   "codemirror_mode": {
    "name": "ipython",
    "version": 3
   },
   "file_extension": ".py",
   "mimetype": "text/x-python",
   "name": "python",
   "nbconvert_exporter": "python",
   "pygments_lexer": "ipython3",
   "version": "3.6.5"
  }
 },
 "nbformat": 4,
 "nbformat_minor": 2
}
