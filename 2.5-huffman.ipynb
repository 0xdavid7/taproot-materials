{
 "cells": [
  {
   "cell_type": "code",
   "execution_count": null,
   "metadata": {},
   "outputs": [],
   "source": [
    "import util\n",
    "from test_framework.key import ECKey, ECPubKey, generate_key_pair, generate_bip340_key_pair\n",
    "from test_framework.script import Tapbranch, TapLeaf, TapTree"
   ]
  },
  {
   "cell_type": "markdown",
   "metadata": {},
   "source": [
    "# 2.5 Huffman TapTree Constructor\n",
    "\n",
    "When constructing a TapTree, we can optimize the tree structure to minimize the expected witness weight when spending along the script path. The **expected witness weight** is determined by summing up all probability-adjusted witness weights of the TapScripts in the TapTree.\n",
    "\n",
    "For example, for a TapTree with TapLeaves A, B, and C, the expected witness weight is determined as follows:\n",
    "\n",
    "```\n",
    "Expected-witness-weight =\n",
    "      Probability-of-A * Witness-weight-A\n",
    "    + Probability-of-B * Witness-weight-B\n",
    "    + Probability-of-C * Witness-weight-C\n",
    "```\n",
    "\n",
    "In order to minimize the expected witness weight for the script path, we can try to reduce the size of the required **inclusion proof** for those TapScripts which have a higher probability by placing these closer to the root of the tree."
   ]
  },
  {
   "cell_type": "markdown",
   "metadata": {},
   "source": [
    "## Part 1: Huffman Algorithm\n",
    "\n",
    "We can use [Huffman's algorithm](https://en.wikipedia.org/wiki/Huffman_coding) to build tree structures from their leaves and assigned frequencies. The assigned frequency of each leaf is based on its expected probability of execution. Note that it is the ratios between the assigned leaf frequencies which determine the resulting tree structure, not their absolute values.\n",
    "\n",
    "The Huffman algorithm to construct a TapTree structure can be described as follows:\n",
    "\n",
    "* Place all leaves in a queue and sort by ascending frequency\n",
    "* While length(queue) > 1 :\n",
    "    * Pop the two elements with the lowest frequencies\n",
    "    * Generate the parent tapbranch with a frequency equal to the sum of the child frequencies\n",
    "    * Add parent tapbranch to queue and re-sort\n",
    "* Tree root is represented by final queue element"
   ]
  },
  {
   "cell_type": "markdown",
   "metadata": {},
   "source": [
    "![test](images/huffman_intro0.jpg)"
   ]
  },
  {
   "cell_type": "markdown",
   "metadata": {},
   "source": [
    "**Note:** If more than 2 leaves or tapbranches share the same assigned frequency during construction with the Huffman algorithm, the selection of the two queue elements to generate the next parent becomes ambiguous. In our implementation, we first sort our queue by **assigned frequency**, then by **tagged hash** value. This way, the sorting of the queue is always unambiguous given a distinct set of leaves. _This secondary, arbitrary sorting criteria does not affect the expected witness weight of spending along the script path, since the assigned frequencies of the leaves or tapbranches in question are equal._"
   ]
  },
  {
   "cell_type": "markdown",
   "metadata": {},
   "source": [
    "#### Example 2.5.1: Construct a TapTree with the Huffman algorithm\n",
    "\n",
    "* We manually construct the TapTree from a set of 5 pay-to-pubkey TapLeaves with assigned frequencies as shown in the image above."
   ]
  },
  {
   "cell_type": "code",
   "execution_count": null,
   "metadata": {},
   "outputs": [],
   "source": [
    "internal_pubkey = ECPubKey()\n",
    "internal_pubkey.set(bytes.fromhex('af455f4989d122e9185f8c351dbaecd13adca3eef8a9d38ef8ffed6867e342e3'))\n",
    "\n",
    "# Derive pay-to-pubkey tapleaves\n",
    "privkeyA, pubkeyA = generate_bip340_key_pair()\n",
    "privkeyB, pubkeyB = generate_bip340_key_pair()\n",
    "privkeyC, pubkeyC = generate_bip340_key_pair()\n",
    "privkeyD, pubkeyD = generate_bip340_key_pair()\n",
    "privkeyE, pubkeyE = generate_bip340_key_pair()\n",
    "\n",
    "tapleafA = TapLeaf().construct_pk(pubkeyA)\n",
    "tapleafB = TapLeaf().construct_pk(pubkeyB)\n",
    "tapleafC = TapLeaf().construct_pk(pubkeyC)\n",
    "tapleafD = TapLeaf().construct_pk(pubkeyD)\n",
    "tapleafE = TapLeaf().construct_pk(pubkeyE)\n",
    "\n",
    "# Sorted queue: (5, A), (4, B), (3, C), (2, D), (1, E)\n",
    "# Tapbranch DE = parent(D,E)\n",
    "# Assigned frequency of DE = 2 + 1 = 3\n",
    "tapbranchDE = Tapbranch(tapleafD, tapleafE)\n",
    "\n",
    "# Sorted queue: (5, A), (4, B), (3, C), (3, DE), \n",
    "# Tapbranch CDE = parent(C, DE)\n",
    "# Assigned frequency of CDE = 3 + 3 = 6\n",
    "tapbranchCDE = Tapbranch(tapleafC, tapbranchDE)\n",
    "\n",
    "# Sorted queue: (6, CDE), (5, A), (4, B)\n",
    "# Tapbranch AB = parent(A,B)\n",
    "# Assigned frequency of AB = 5 + 4 = 9\n",
    "tapbranchAB = Tapbranch(tapleafA, tapleafB)\n",
    "\n",
    "# Sorted queue: (9, AB), (6, CDE)\n",
    "# Tapbranch ABCDE = parent(AB, CDE)\n",
    "tapbranchABCDE = Tapbranch(tapbranchAB, tapbranchCDE)\n",
    "\n",
    "# Tree construction\n",
    "taptree = TapTree(key=internal_pubkey, root=tapbranchABCDE)\n",
    "\n",
    "segwit_v1_script, tweak, control_map = taptree.construct()\n",
    "print(\"Taptree descriptor: {}\\n\".format(taptree.desc))"
   ]
  },
  {
   "cell_type": "markdown",
   "metadata": {},
   "source": [
    "## Part 2: Huffman TapTree Constructor Method\n",
    "\n",
    "We reconstruct the same TapTree from the example above using the `TapTree.huffman_constructor()` method. \n",
    "\n",
    "* That function takes a list of `(assigned_frequency,tapleaf)` tuples, where:\n",
    "    * `assigned_frequency` is an `int` \n",
    "    * `tapleaf` is a `TapLeaf` object\n",
    "   "
   ]
  },
  {
   "cell_type": "markdown",
   "metadata": {},
   "source": [
    "#### Example 2.5.2: Construct a TapTree with the Huffman constructor method\n",
    "* We compare the resulting TapTree with the one constructed manually in example 2.5.1"
   ]
  },
  {
   "cell_type": "code",
   "execution_count": null,
   "metadata": {},
   "outputs": [],
   "source": [
    "taptree2 = TapTree()\n",
    "taptree2.key = internal_pubkey\n",
    "taptree2.huffman_constructor([(5, tapleafA), (4, tapleafB), (3, tapleafC), (2, tapleafD), (1, tapleafE)])\n",
    "print(\"Taptree descriptor: {}\\n\".format(taptree2.desc))\n",
    "\n",
    "segwit_v1_script2, tweak2, control_map2 = taptree2.construct()\n",
    "print(\"TapTrees are identical: {}\".format(tweak == tweak2))"
   ]
  },
  {
   "cell_type": "markdown",
   "metadata": {},
   "source": [
    "#### _Programming Exercise 2.5.3:_ Assign the leaf frequencies for this tree structure\n",
    "\n",
    "Given the TapTree structure shown below, try to assign compatible leaf frequencies for the Huffman constructor. In other words, try to follow the Huffman algorithm from the lowest depth of the tree and determine what frequency values would be necessary in order to construct the tree depicted in the image below.\n",
    "\n",
    "For TapLeaves A through F:\n",
    "* Generate `pk` TapScripts for each.\n",
    "* Assign their frequencies so that the TapTree resulting from the Huffman constructor has the desired tree structure."
   ]
  },
  {
   "cell_type": "markdown",
   "metadata": {},
   "source": [
    "![test](images/huffman_intro1.jpg)"
   ]
  },
  {
   "cell_type": "code",
   "execution_count": null,
   "metadata": {},
   "outputs": [],
   "source": [
    "internal_pubkey = ECPubKey()\n",
    "internal_pubkey.set(bytes.fromhex('af455f4989d122e9185f8c351dbaecd13adca3eef8a9d38ef8ffed6867e342e3'))\n",
    "\n",
    "# Derive pay-to-pubkey TapLeaves\n",
    "privkeyA, pubkeyA = generate_bip340_key_pair()\n",
    "privkeyB, pubkeyB = generate_bip340_key_pair()\n",
    "privkeyC, pubkeyC = generate_bip340_key_pair()\n",
    "privkeyD, pubkeyD = generate_bip340_key_pair()\n",
    "privkeyE, pubkeyE = generate_bip340_key_pair()\n",
    "privkeyF, pubkeyF = generate_bip340_key_pair()\n",
    "\n",
    "tapleafA = TapLeaf().construct_pk(pubkeyA)\n",
    "tapleafB = TapLeaf().construct_pk(pubkeyB)\n",
    "tapleafC = TapLeaf().construct_pk(pubkeyC)\n",
    "tapleafD = TapLeaf().construct_pk(pubkeyD)\n",
    "tapleafE = TapLeaf().construct_pk(pubkeyE)\n",
    "tapleafF = TapLeaf().construct_pk(pubkeyF)\n",
    "\n",
    "# Assign frequencies to the TapLeaves to generate the desired tree\n",
    "weightA = # TODO: Implement\n",
    "weightB = # TODO: Implement\n",
    "weightC = # TODO: Implement\n",
    "weightD = # TODO: Implement\n",
    "weightE = # TODO: Implement\n",
    "weightF = # TODO: Implement\n",
    "\n",
    "# Construct TapTree with Huffman constructor\n",
    "taptree = TapTree()\n",
    "taptree.key = internal_pubkey\n",
    "taptree.huffman_constructor([(weightA, tapleafA), (weightB, tapleafB), (weightC, tapleafC), (weightD, tapleafD), (weightE, tapleafE), (weightF, tapleafF)])\n",
    "print(\"Taptree descriptor: {}\\n\".format(taptree.desc))"
   ]
  },
  {
   "cell_type": "markdown",
   "metadata": {},
   "source": [
    "#### _Check the leaf depths in your constructed Taptree._\n",
    "\n",
    "Run the cell below to check if you have constructed the correct tree structure with your assigned frequencies."
   ]
  },
  {
   "cell_type": "code",
   "execution_count": null,
   "metadata": {},
   "outputs": [],
   "source": [
    "tapleaves = [(\"A\", tapleafA, 4), \\\n",
    "             (\"B\", tapleafB, 4), \\\n",
    "             (\"C\", tapleafC, 4), \\\n",
    "             (\"D\", tapleafD, 4), \\\n",
    "             (\"E\", tapleafE, 2), \\\n",
    "             (\"F\", tapleafF, 1)]\n",
    "\n",
    "segwit_v1_script, tweak, control_map = taptree.construct()\n",
    "\n",
    "for leaf_label, tapleaf, depth in tapleaves:\n",
    "    controlblock = control_map[tapleaf.script]\n",
    "    print(\"TapLeaf{} is located at depth {}\".format(leaf_label, depth))\n",
    "    assert int((len(controlblock) - 33)/32) == depth\n",
    "    \n",
    "print(\"Your constructed TapTree is correct!\")"
   ]
  },
  {
   "cell_type": "markdown",
   "metadata": {},
   "source": [
    "**Congratulations!** In this chapter, you have:\n",
    "\n",
    "- Learned how to optimize the expected witness weight for a script path spend.\n",
    "- Learned how a TapTree is constructed with the Huffman algorithm.\n",
    "    - TapLeaves which are assigned higher frequencies are closer to the tree root.\n",
    "    - TapLeaves closer to the TapTree root are cheaper to spend, as the inclusion proof is smaller.\n",
    "- Learned how a TapTree is constructed with the `TapTree.huffman_contructor()` method.\n",
    "- Assigned frequencies to TapLeaves to construct a specific tree structure with the Huffman algorithm."
   ]
  }
 ],
 "metadata": {
  "kernelspec": {
   "display_name": "Python 3",
   "language": "python",
   "name": "python3"
  },
  "language_info": {
   "codemirror_mode": {
    "name": "ipython",
    "version": 3
   },
   "file_extension": ".py",
   "mimetype": "text/x-python",
   "name": "python",
   "nbconvert_exporter": "python",
   "pygments_lexer": "ipython3",
   "version": "3.6.5"
  }
 },
 "nbformat": 4,
 "nbformat_minor": 2
}
