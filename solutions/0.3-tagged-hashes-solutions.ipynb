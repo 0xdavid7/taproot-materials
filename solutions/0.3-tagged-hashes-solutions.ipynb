{
 "cells": [
  {
   "cell_type": "markdown",
   "metadata": {},
   "source": [
    "#### _0.3.1 Programming Exercise:_ Implement a tagged hash function"
   ]
  },
  {
   "cell_type": "code",
   "execution_count": null,
   "metadata": {},
   "outputs": [],
   "source": [
    "def tagged_hash(tag, input_data):\n",
    "    # Hash \"TagName\" using SHA256\n",
    "    tag_digest = sha256(tag)\n",
    "    # The preimage becomes sha256(\"TagName\") + sha256(\"TagName\") + data\n",
    "    preimage = tag_digest + tag_digest + input_data\n",
    "    return sha256(preimage)\n",
    "\n",
    "h = tagged_hash(b'SampleTagName', b'Input data')\n",
    "\n",
    "assert h.hex() == \"4c55df56134d7f37d3295850659f2e3729128c969b3386ec661feb7dfe29a99c\"\n",
    "print(\"Success!\")"
   ]
  }
 ],
 "metadata": {
  "kernelspec": {
   "display_name": "Python 3",
   "language": "python",
   "name": "python3"
  },
  "language_info": {
   "codemirror_mode": {
    "name": "ipython",
    "version": 3
   },
   "file_extension": ".py",
   "mimetype": "text/x-python",
   "name": "python",
   "nbconvert_exporter": "python",
   "pygments_lexer": "ipython3",
   "version": "3.7.3"
  }
 },
 "nbformat": 4,
 "nbformat_minor": 2
}
