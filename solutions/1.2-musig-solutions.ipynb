{
 "cells": [
  {
   "cell_type": "markdown",
   "metadata": {},
   "source": [
    "#### 1.2.1 _Programming Exercise:_ Compute 3-of-3 MuSig public key"
   ]
  },
  {
   "cell_type": "code",
   "execution_count": null,
   "metadata": {},
   "outputs": [],
   "source": [
    "# Compute key pairs\n",
    "privkey1, pubkey1 = generate_key_pair(sha256(b'key0'))\n",
    "privkey2, pubkey2 = generate_key_pair(sha256(b'key1'))\n",
    "privkey3, pubkey3 = generate_key_pair(sha256(b'key2'))\n",
    "pubkeys = [pubkey1, pubkey2, pubkey3]\n",
    "\n",
    "# Compute key challenges\n",
    "# Method: use generate_musig_key() on the list of pubkeys.\n",
    "# generate_musig_key() returns a challenge map and the aggregate public key.\n",
    "c_map, pubkey_agg = generate_musig_key(pubkeys)\n",
    "print(\"Aggregated Public Key is {}\\n\".format(pubkey_agg.get_bytes().hex()))\n",
    "\n",
    "# Multiply key pairs by challenge factor\n",
    "privkey1_c = privkey1 * c_map[pubkey1]\n",
    "privkey2_c = privkey2 * c_map[pubkey2]\n",
    "privkey3_c = privkey3 * c_map[pubkey3]\n",
    "pubkey1_c = pubkey1 * c_map[pubkey1]\n",
    "pubkey2_c = pubkey2 * c_map[pubkey2]\n",
    "pubkey3_c = pubkey3 * c_map[pubkey3]\n",
    "\n",
    "# Determine if the private and public keys need to be negated. \n",
    "# Hint: The aggregate public key is the one that needs to be valid.\n",
    "if pubkey_agg.get_y()%2 != 0:\n",
    "    privkey1_c.negate()\n",
    "    privkey2_c.negate()\n",
    "    privkey3_c.negate()\n",
    "    pubkey1_c.negate()\n",
    "    pubkey2_c.negate()\n",
    "    pubkey3_c.negate()\n",
    "    pubkey_agg.negate()\n",
    "\n",
    "print(\"Tweaked privkey1 is {}\".format(privkey1_c))\n",
    "print(\"Tweaked privkey2 is {}\".format(privkey2_c))\n",
    "print(\"Tweaked privkey3 is {}\".format(privkey3_c))\n",
    "\n",
    "assert privkey1_c.secret == 104717570570407299858230629579807834166658508605015363884161538594382975780625\n",
    "assert privkey2_c.secret == 65554880484297966965546994775376394861215085064604177497808278620612854069980\n",
    "assert privkey3_c.secret == 106998690642216524894360365246223287721822845133760006050846956016514597569168\n",
    "\n",
    "print(\"\\nSuccess!\")"
   ]
  },
  {
   "cell_type": "markdown",
   "metadata": {},
   "source": [
    "#### 1.2.2 _Programming Exercise:_ Compute 3-of-3 MuSig nonce"
   ]
  },
  {
   "cell_type": "code",
   "execution_count": null,
   "metadata": {},
   "outputs": [],
   "source": [
    "# Generate nonces and nonce points\n",
    "# We set the nonces manually here for testing purposes, but usually we'll call generate_schnorr_nonce()\n",
    "# to generate a random nonce point\n",
    "# Method: generate_schnorr_nonce() with no argument generates a random nonce\n",
    "k1 = ECKey().set(101)\n",
    "k2 = ECKey().set(222)\n",
    "k3 = ECKey().set(333)\n",
    "test_k1 = ECKey().set(k1.secret)\n",
    "test_k2 = ECKey().set(k2.secret)\n",
    "test_k3 = ECKey().set(k3.secret)\n",
    "\n",
    "# Method: use get_pubkey() to get the associated nonce point.\n",
    "R1 = k1.get_pubkey()\n",
    "R2 = k2.get_pubkey()\n",
    "R3 = k3.get_pubkey()\n",
    "\n",
    "# Round 1: Generate nonce point commitments and exchange them\n",
    "# Method: use sha256() on the nonce point. sha256() takes a bytes object, so extract the bytes from the nonce point.\n",
    "R1_digest = sha256(R1.get_bytes())\n",
    "R2_digest = sha256(R2.get_bytes())\n",
    "R3_digest = sha256(R3.get_bytes())\n",
    "\n",
    "# Round 2: Exchange the nonce points. Each participant verifies that the nonce point commitment matches the nonce point.\n",
    "assert R1_digest.hex() == \"38018cfa00483e751b166e7d982a5bb8264fb3309739c2f432e79791a1c9aaf7\"\n",
    "assert R2_digest.hex() == \"9eb8fac583a9d83d4753c454e4ab4de833b3496d093a6f2df507a6a39424c745\"\n",
    "assert R3_digest.hex() == \"103ea7eeb151bc6bd2c1e54ecaaad303b1c022bb205c5430daac796924a80ed0\"\n",
    "\n",
    "# Aggregate nonces\n",
    "# Tip: Add the individual nonce points together. If the aggregated nonce does not have an even Y\n",
    "# then negate the aggregate nonce and individual nonce scalars.\n",
    "R_agg =  R1 + R2 + R3\n",
    "if R_agg.get_y()%2 != 0:\n",
    "    k1.negate()\n",
    "    k2.negate()\n",
    "    k3.negate()\n",
    "    R_agg.negate()\n",
    "\n",
    "print(\"Individual nonce scalars:\\n\\t{}, \\n\\t{}, \\n\\t{}.\\n\".format(k1, k2, k3))\n",
    "print(\"Aggregate nonce point: {}\\n\".format(R_agg))\n",
    "\n",
    "# Test your solution against the aggregate_schnorr_nonces() helper function.\n",
    "# aggregate_schnorr_nonces() aggregates the nonces and returns whether the individual nonces need to be negated.\n",
    "test_R_agg, negated = aggregate_schnorr_nonces([R1, R2, R3])\n",
    "if negated:\n",
    "    test_k1.negate()\n",
    "    test_k2.negate()\n",
    "    test_k3.negate()\n",
    "\n",
    "assert R_agg == test_R_agg\n",
    "assert k1 == test_k1\n",
    "assert k2 == test_k2\n",
    "assert k3 == test_k3\n",
    "\n",
    "print(\"Success!\")"
   ]
  },
  {
   "cell_type": "markdown",
   "metadata": {},
   "source": [
    "#### 1.2.3 _Programming exercise:_ Compute aggregated MuSig signature"
   ]
  },
  {
   "cell_type": "code",
   "execution_count": null,
   "metadata": {},
   "outputs": [],
   "source": [
    "msg = sha256(b'transaction')\n",
    "\n",
    "# Generate partial signatures\n",
    "# Method: use sign_musig() with:\n",
    "#     - individual (tweaked) privkey\n",
    "#     - individual nonce scalar\n",
    "#     - aggregate nonce point\n",
    "#     - aggregate pubkey\n",
    "#     - msg\n",
    "s1 = sign_musig(privkey1_c, k1, R_agg, pubkey_agg, msg)\n",
    "s2 = sign_musig(privkey2_c, k2, R_agg, pubkey_agg, msg)\n",
    "s3 = sign_musig(privkey3_c, k3, R_agg, pubkey_agg, msg)\n",
    "\n",
    "print(\"Partial signatures:\\n\\t{}\\n\\t{}\\n\\t{}\\n\".format(s1, s2, s3))\n",
    "\n",
    "# Aggregate signatures\n",
    "# Method: use aggregate_musig_signatures with list of individual signatures\n",
    "sig_agg = aggregate_musig_signatures([s1, s2, s3], R_agg)\n",
    "print(\"Aggregate signature:\\n\\t{}\\n\".format(sig_agg.hex()))\n",
    "\n",
    "# Verify signature against aggregate public key\n",
    "assert pubkey_agg.verify_schnorr(sig_agg, msg)\n",
    "print(\"Success! Signature verifies against aggregate pubkey\")"
   ]
  }
 ],
 "metadata": {
  "kernelspec": {
   "display_name": "Python 3",
   "language": "python",
   "name": "python3"
  },
  "language_info": {
   "codemirror_mode": {
    "name": "ipython",
    "version": 3
   },
   "file_extension": ".py",
   "mimetype": "text/x-python",
   "name": "python",
   "nbconvert_exporter": "python",
   "pygments_lexer": "ipython3",
   "version": "3.6.5"
  }
 },
 "nbformat": 4,
 "nbformat_minor": 2
}
