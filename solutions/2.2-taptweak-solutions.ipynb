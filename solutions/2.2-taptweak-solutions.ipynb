{
 "cells": [
  {
   "cell_type": "markdown",
   "metadata": {},
   "source": [
    "#### _Programming Exercise 2.2.2:_  Signing with a tweaked 2-of-2 MuSig key pair"
   ]
  },
  {
   "cell_type": "code",
   "execution_count": null,
   "metadata": {},
   "outputs": [],
   "source": [
    "# Generate key pairs\n",
    "privkey1, pubkey1 = generate_key_pair()\n",
    "privkey2, pubkey2 = generate_key_pair()\n",
    "\n",
    "# Create an aggregate MuSig pubkey\n",
    "c_map, agg_pubkey = generate_musig_key([pubkey1, pubkey2])\n",
    "\n",
    "# Apply challenge factors to keys\n",
    "privkey1_c = privkey1 * c_map[pubkey1]\n",
    "privkey2_c = privkey2 * c_map[pubkey2]\n",
    "pubkey1_c = pubkey1 * c_map[pubkey1]\n",
    "pubkey2_c = pubkey2 * c_map[pubkey2]\n",
    "\n",
    "# Negate if needed\n",
    "if agg_pubkey.get_y()%2 != 0:\n",
    "    agg_pubkey.negate()\n",
    "    privkey1_c.negate()\n",
    "    privkey2_c.negate()\n",
    "    pubkey1_c.negate()\n",
    "    pubkey2_c.negate()\n",
    "\n",
    "# Tweak musig public key\n",
    "# Method: ECPubKey.tweak_add()\n",
    "tweak = random.randrange(1, SECP256K1_ORDER)\n",
    "agg_pubkey_tweaked = agg_pubkey.tweak_add(tweak)\n",
    "\n",
    "# Nonce generation & aggregation\n",
    "# Remember to negate the individual nonce values if required\n",
    "# Method: generate_schnorr_nonce()\n",
    "# Method: aggregate_schnorr_nonces()\n",
    "k1 = generate_schnorr_nonce()\n",
    "k2 = generate_schnorr_nonce()\n",
    "R_agg, negated = aggregate_schnorr_nonces([k1.get_pubkey(), k2.get_pubkey()])\n",
    "if negated:\n",
    "    k1.negate()\n",
    "    k2.negate()\n",
    "\n",
    "# Signing and signature aggregation\n",
    "msg = sha256(b'msg')\n",
    "\n",
    "# Sign individually and then aggregate partial signatures. A factor (e * tweak)\n",
    "# needs to be added to the list of partial signatures\n",
    "# Method: sign_musig(private_key, nonce_key, nonce_point, public_key, msg)\n",
    "# Method: aggregate_musig_signatures(partial_signature_list, aggregate nonce)\n",
    "e = musig_digest(R_agg, agg_pubkey_tweaked, msg)\n",
    "s1 = sign_musig(privkey1_c, k1, R_agg, agg_pubkey_tweaked, msg)\n",
    "s2 = sign_musig(privkey2_c, k2, R_agg, agg_pubkey_tweaked, msg)\n",
    "sig_agg = aggregate_musig_signatures([s1,s2,(e*tweak)], R_agg)\n",
    "\n",
    "assert agg_pubkey_tweaked.verify_schnorr(sig_agg, msg)\n",
    "print(\"Success!\")"
   ]
  },
  {
   "cell_type": "markdown",
   "metadata": {},
   "source": [
    "#### _Programming Exercise 2.2.6:_ Construct taproot output with tweaked public key"
   ]
  },
  {
   "cell_type": "code",
   "execution_count": null,
   "metadata": {},
   "outputs": [],
   "source": [
    "# Example key pair\n",
    "privkey = ECKey().set(102118636618570133408735518698955378316807974995033705330357303547139065928052)\n",
    "internal_pubkey = privkey.get_pubkey()\n",
    "\n",
    "if internal_pubkey.get_y()%2 != 0:\n",
    "    privkey.negate()\n",
    "    internal_pubkey.negate()\n",
    "\n",
    "# Example tweak\n",
    "taptweak = bytes.fromhex('2a2fb476ec9962f262ff358800db0e7364287340db73e5e48db36d1c9f374e30')\n",
    "\n",
    "# Tweak the private key\n",
    "# Method: ECKey.add()\n",
    "tweaked_privkey = privkey.add(taptweak)\n",
    "\n",
    "# Tweak the public key\n",
    "# Method: use tweak_add()\n",
    "taproot_pubkey = internal_pubkey.tweak_add(taptweak)\n",
    "taproot_pubkey_b = taproot_pubkey.get_bytes()\n",
    "\n",
    "# Derive the bech32 address\n",
    "# Use program_to_witness(version_int, pubkey_bytes)\n",
    "address = program_to_witness(0x01, taproot_pubkey_b)\n",
    "\n",
    "assert address == \"bcrt1pjnux0f7037ysqv2aycfntus0t606sjyu0qe2xqewlmhulpdujqeq2z4st9\"\n",
    "print(\"Success! Address: {}\".format(address))"
   ]
  },
  {
   "cell_type": "markdown",
   "metadata": {},
   "source": [
    "#### _Programming Exercise 2.2.9:_ Spend taproot output with key path"
   ]
  },
  {
   "cell_type": "code",
   "execution_count": null,
   "metadata": {},
   "outputs": [],
   "source": [
    "# Sign transaction with tweaked private key\n",
    "# Method: TaprootSignatureHash(tx, output_list, hash_type=int, input_index=int, scriptpath=bool)\n",
    "sighash = TaprootSignatureHash(spending_tx, [tx.vout[0]], 0x0, 0, False)\n",
    "sig = tweaked_privkey.sign_schnorr(sighash)\n",
    "\n",
    "# Add witness to transaction\n",
    "spending_tx.wit.vtxinwit.append(CTxInWitness([sig]))\n",
    "\n",
    "# Test mempool acceptance\n",
    "assert node.test_transaction(spending_tx)\n",
    "print(\"Success!\")"
   ]
  },
  {
   "cell_type": "markdown",
   "metadata": {},
   "source": [
    "#### _Programming Exercise 2.2.13:_ Generate segwit v1 address for a pay-to-contract public key"
   ]
  },
  {
   "cell_type": "code",
   "execution_count": null,
   "metadata": {},
   "outputs": [],
   "source": [
    "# Generate a key pair\n",
    "privkey, pubkey = generate_bip340_key_pair()\n",
    "\n",
    "# Generate the pay-to-contract tweak\n",
    "# Hint: Use tagged_hash(\"TapTweak\", P + bytes)\n",
    "contract_bytes = \"Alice pays 10 BTC to Bob\".encode('utf-8')\n",
    "tweak = int_or_bytes(tagged_hash(\"TapTweak\", pubkey.get_bytes() + contract_bytes))\n",
    "tweak_private, tweak_point = generate_key_pair(tweak)\n",
    "\n",
    "# Tweak Alice's key pair with the pay-to-contract tweak\n",
    "tweaked_pubkey = pubkey + tweak_point\n",
    "tweaked_privkey = privkey + tweak_private\n",
    "\n",
    "# Generate the segwit v1 address\n",
    "tweaked_pubkey_data = tweaked_pubkey.get_bytes()\n",
    "tweaked_pubkey_program = tweaked_pubkey_data\n",
    "version = 1\n",
    "address = program_to_witness(version, tweaked_pubkey_program)\n",
    "print(\"Address encoding the segwit v1 output: \", address)"
   ]
  }
 ],
 "metadata": {
  "kernelspec": {
   "display_name": "Python 3",
   "language": "python",
   "name": "python3"
  },
  "language_info": {
   "codemirror_mode": {
    "name": "ipython",
    "version": 3
   },
   "file_extension": ".py",
   "mimetype": "text/x-python",
   "name": "python",
   "nbconvert_exporter": "python",
   "pygments_lexer": "ipython3",
   "version": "3.6.5"
  }
 },
 "nbformat": 4,
 "nbformat_minor": 2
}
